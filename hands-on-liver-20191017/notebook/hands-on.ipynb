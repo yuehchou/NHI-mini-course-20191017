{
 "cells": [
  {
   "cell_type": "markdown",
   "metadata": {
    "slideshow": {
     "slide_type": "slide"
    }
   },
   "source": [
    "# <big>Hands-on: Hepatocellular Carcinoma</big>"
   ]
  },
  {
   "cell_type": "markdown",
   "metadata": {
    "slideshow": {
     "slide_type": "fragment"
    }
   },
   "source": [
    "### Date: 17 October, 2019\n",
    "\n",
    "### Author: _[Yueh-Chou Lee](https://yuehchou.github.io/)_\n",
    "\n",
    "### This course is for National Health Insurance Administration(NHI)."
   ]
  },
  {
   "cell_type": "markdown",
   "metadata": {
    "slideshow": {
     "slide_type": "slide"
    }
   },
   "source": [
    "---\n",
    "# Target"
   ]
  },
  {
   "cell_type": "markdown",
   "metadata": {
    "slideshow": {
     "slide_type": "fragment"
    }
   },
   "source": [
    "## To classify whether the tumor will recur in the year after receiving treatment"
   ]
  },
  {
   "cell_type": "markdown",
   "metadata": {
    "slideshow": {
     "slide_type": "subslide"
    }
   },
   "source": [
    "---\n",
    "# Workflow\n",
    "<br>\n",
    "<img src='./../include/workflow.png'>"
   ]
  },
  {
   "cell_type": "markdown",
   "metadata": {
    "slideshow": {
     "slide_type": "slide"
    }
   },
   "source": [
    "---\n",
    "# Part 0. Import necessary libraries"
   ]
  },
  {
   "cell_type": "markdown",
   "metadata": {
    "slideshow": {
     "slide_type": "slide"
    }
   },
   "source": [
    "## 1. Check whether libraries exist"
   ]
  },
  {
   "cell_type": "code",
   "execution_count": null,
   "metadata": {
    "scrolled": true,
    "slideshow": {
     "slide_type": "fragment"
    }
   },
   "outputs": [],
   "source": [
    "!pip install numpy --user\n",
    "!pip install nipype==1.2.2 --user\n",
    "!pip install matplotlib --user\n",
    "!pip install SimpleITK --user\n",
    "!pip install xlrd --user\n",
    "!pip install pandas --user\n",
    "!pip install tqdm --user\n",
    "!pip install pyradiomics==2.0.0 --user"
   ]
  },
  {
   "cell_type": "markdown",
   "metadata": {
    "slideshow": {
     "slide_type": "slide"
    }
   },
   "source": [
    "## After completing the above part, you should click \" _Kernel -> Restart_ \" to restart the juypter notebook."
   ]
  },
  {
   "cell_type": "markdown",
   "metadata": {
    "slideshow": {
     "slide_type": "slide"
    }
   },
   "source": [
    "## 2. Import libraries"
   ]
  },
  {
   "cell_type": "code",
   "execution_count": null,
   "metadata": {
    "slideshow": {
     "slide_type": "fragment"
    }
   },
   "outputs": [],
   "source": [
    "import os\n",
    "import numpy as np\n",
    "import pandas as pd\n",
    "import SimpleITK as sitk\n",
    "import matplotlib.pyplot as plt\n",
    "from radiomics import featureextractor # version: 2.0.0 - 2.1.0"
   ]
  },
  {
   "cell_type": "code",
   "execution_count": null,
   "metadata": {
    "slideshow": {
     "slide_type": "fragment"
    }
   },
   "outputs": [],
   "source": [
    "params = os.path.join(os.getcwd(), './../include/radiomics_setting.yaml')\n",
    "extractor = featureextractor.RadiomicsFeaturesExtractor(params)"
   ]
  },
  {
   "cell_type": "markdown",
   "metadata": {
    "slideshow": {
     "slide_type": "slide"
    }
   },
   "source": [
    "---\n",
    "# Part 1. Get the data information"
   ]
  },
  {
   "cell_type": "markdown",
   "metadata": {
    "slideshow": {
     "slide_type": "slide"
    }
   },
   "source": [
    "## 1. NIfTI"
   ]
  },
  {
   "cell_type": "markdown",
   "metadata": {
    "slideshow": {
     "slide_type": "fragment"
    }
   },
   "source": [
    "## Unzip data file"
   ]
  },
  {
   "cell_type": "code",
   "execution_count": null,
   "metadata": {
    "slideshow": {
     "slide_type": "fragment"
    }
   },
   "outputs": [],
   "source": [
    "!unzip ./../data/NIfTI.zip -d ./../data/"
   ]
  },
  {
   "cell_type": "markdown",
   "metadata": {
    "slideshow": {
     "slide_type": "slide"
    }
   },
   "source": [
    "### Get header information"
   ]
  },
  {
   "cell_type": "code",
   "execution_count": null,
   "metadata": {
    "scrolled": true,
    "slideshow": {
     "slide_type": "fragment"
    }
   },
   "outputs": [],
   "source": [
    "reader = sitk.ImageFileReader()\n",
    "\n",
    "reader.SetFileName('./../data/NIfTI/image.nii')\n",
    "reader.LoadPrivateTagsOn();\n",
    "\n",
    "reader.ReadImageInformation();\n",
    "\n",
    "for key in reader.GetMetaDataKeys():\n",
    "    value = reader.GetMetaData(key)\n",
    "    print(\"({0}) = = \\\"{1}\\\"\".format(key, value))"
   ]
  },
  {
   "cell_type": "markdown",
   "metadata": {
    "slideshow": {
     "slide_type": "fragment"
    }
   },
   "source": [
    "### Load NIfTI image and label"
   ]
  },
  {
   "cell_type": "code",
   "execution_count": null,
   "metadata": {
    "slideshow": {
     "slide_type": "fragment"
    }
   },
   "outputs": [],
   "source": [
    "sitk_image = sitk.ReadImage('./../data/NIfTI/image.nii')\n",
    "sitk_label = sitk.ReadImage('./../data/NIfTI/label.nii')\n",
    "sitk_label = sitk.Cast(sitk_label, sitk.sitkInt8)"
   ]
  },
  {
   "cell_type": "markdown",
   "metadata": {
    "slideshow": {
     "slide_type": "slide"
    }
   },
   "source": [
    "### Check the important information"
   ]
  },
  {
   "cell_type": "code",
   "execution_count": null,
   "metadata": {
    "slideshow": {
     "slide_type": "fragment"
    }
   },
   "outputs": [],
   "source": [
    "print('The physical origin point of sitk_image:', sitk_image.GetOrigin())\n",
    "print('The shape of sitk_image:', sitk_image.GetSize())\n",
    "print('The physical spacing of sitk_image:', sitk_image.GetSpacing())\n",
    "print('The axis direction of sitk_image:', sitk_image.GetDirection())"
   ]
  },
  {
   "cell_type": "markdown",
   "metadata": {
    "slideshow": {
     "slide_type": "slide"
    }
   },
   "source": [
    "### Transfer sitk image to numpy array"
   ]
  },
  {
   "cell_type": "code",
   "execution_count": null,
   "metadata": {
    "slideshow": {
     "slide_type": "fragment"
    }
   },
   "outputs": [],
   "source": [
    "np_image = sitk.GetArrayFromImage(sitk_image)\n",
    "np_label = sitk.GetArrayFromImage(sitk_label)"
   ]
  },
  {
   "cell_type": "markdown",
   "metadata": {
    "slideshow": {
     "slide_type": "slide"
    }
   },
   "source": [
    "### Check the shape, what's your observation?"
   ]
  },
  {
   "cell_type": "code",
   "execution_count": null,
   "metadata": {
    "slideshow": {
     "slide_type": "fragment"
    }
   },
   "outputs": [],
   "source": [
    "print('The shape of sitk_image:', sitk_image.GetSize())\n",
    "print('The shape of sitk_label:', sitk_label.GetSize())\n",
    "print('The shape of np_image:', np_image.shape)\n",
    "print('The shape of np_label:', np_label.shape)"
   ]
  },
  {
   "cell_type": "markdown",
   "metadata": {
    "slideshow": {
     "slide_type": "slide"
    }
   },
   "source": [
    "## 2. NRRD"
   ]
  },
  {
   "cell_type": "code",
   "execution_count": null,
   "metadata": {
    "slideshow": {
     "slide_type": "fragment"
    }
   },
   "outputs": [],
   "source": [
    "nrrd_image = sitk.ReadImage('./../data/NRRD/image.nrrd')\n",
    "\n",
    "print('The physical origin point of nrrd_image:', nrrd_image.GetOrigin())\n",
    "print('The shape of nrrd_image:', nrrd_image.GetSize())\n",
    "print('The physical spacing of nrrd_image:', nrrd_image.GetSpacing())\n",
    "print('The axis direction of nrrd_image:', nrrd_image.GetDirection())"
   ]
  },
  {
   "cell_type": "markdown",
   "metadata": {
    "slideshow": {
     "slide_type": "slide"
    }
   },
   "source": [
    "## 3. DICOM"
   ]
  },
  {
   "cell_type": "code",
   "execution_count": null,
   "metadata": {
    "slideshow": {
     "slide_type": "fragment"
    }
   },
   "outputs": [],
   "source": [
    "dicom_image = sitk.ReadImage('./../data/DICOM/image.dcm')\n",
    "\n",
    "print('The physical origin point of dicom_image:', dicom_image.GetOrigin())\n",
    "print('The shape of dicom_image:', dicom_image.GetSize())\n",
    "print('The physical spacing of dicom_image:', dicom_image.GetSpacing())\n",
    "print('The axis direction of dicom_image:', dicom_image.GetDirection())"
   ]
  },
  {
   "cell_type": "markdown",
   "metadata": {
    "slideshow": {
     "slide_type": "slide"
    }
   },
   "source": [
    "## 4. Choose one pair of image and label, we will continue to use this data to compute following tasks"
   ]
  },
  {
   "cell_type": "code",
   "execution_count": null,
   "metadata": {
    "slideshow": {
     "slide_type": "fragment"
    }
   },
   "outputs": [],
   "source": [
    "image = sitk.ReadImage('./../data/NIfTI/image.nii')\n",
    "label = sitk.ReadImage('./../data/NIfTI/label.nii')\n",
    "label = sitk.Cast(label, sitk.sitkInt8)"
   ]
  },
  {
   "cell_type": "markdown",
   "metadata": {
    "slideshow": {
     "slide_type": "slide"
    }
   },
   "source": [
    "## 5. Plot the slice of this image"
   ]
  },
  {
   "cell_type": "code",
   "execution_count": null,
   "metadata": {
    "slideshow": {
     "slide_type": "fragment"
    }
   },
   "outputs": [],
   "source": [
    "plt.imshow(sitk.GetArrayFromImage(image)[50,:,:])"
   ]
  },
  {
   "cell_type": "markdown",
   "metadata": {
    "slideshow": {
     "slide_type": "slide"
    }
   },
   "source": [
    "---\n",
    "# Part 2. Standardize data"
   ]
  },
  {
   "cell_type": "markdown",
   "metadata": {
    "slideshow": {
     "slide_type": "fragment"
    }
   },
   "source": [
    "## 1. N4 bias field correction (for MR image)"
   ]
  },
  {
   "cell_type": "code",
   "execution_count": null,
   "metadata": {
    "slideshow": {
     "slide_type": "fragment"
    }
   },
   "outputs": [],
   "source": [
    "def N4ITKCorrection(Image, numberFittingLevels, numberFittingIterations):\n",
    "    corrector=sitk.N4BiasFieldCorrectionImageFilter()\n",
    "    corrector.SetMaximumNumberOfIterations(numberFittingIterations*numberFittingLevels)\n",
    "    Image=sitk.Cast(Image,sitk.sitkFloat64)\n",
    "    Image=corrector.Execute(Image)\n",
    "\n",
    "    return Image"
   ]
  },
  {
   "cell_type": "markdown",
   "metadata": {
    "slideshow": {
     "slide_type": "slide"
    }
   },
   "source": [
    "### How to use?"
   ]
  },
  {
   "cell_type": "code",
   "execution_count": null,
   "metadata": {
    "slideshow": {
     "slide_type": "fragment"
    }
   },
   "outputs": [],
   "source": [
    "numberFittingLevels=4\n",
    "numberFittingIterations=[1]\n",
    "N4ITK_image = N4ITKCorrection(image, numberFittingLevels, numberFittingIterations)"
   ]
  },
  {
   "cell_type": "markdown",
   "metadata": {
    "slideshow": {
     "slide_type": "slide"
    }
   },
   "source": [
    "## 2. Simple ITK resample "
   ]
  },
  {
   "cell_type": "code",
   "execution_count": null,
   "metadata": {
    "slideshow": {
     "slide_type": "slide"
    }
   },
   "outputs": [],
   "source": [
    "def SITKResampleImage(Image, orig_spacing, NewSpacing, isLabel=False):\n",
    "    orig_size = np.array(Image.GetSize(), dtype=np.int)\n",
    "\n",
    "    NewSize = orig_size*(np.array(orig_spacing)/np.array(NewSpacing))\n",
    "    NewSize = np.ceil(NewSize).astype(np.int)\n",
    "    NewSize = [int(s) for s in NewSize]\n",
    "    NewSize_Center = np.array(np.array(NewSize) / 2.0)\n",
    "\n",
    "    Dimension = Image.GetDimension()\n",
    "    Reference_Origin = np.zeros(Dimension)\n",
    "    Transform = sitk.AffineTransform(Dimension)\n",
    "    Transform.SetMatrix(Image.GetDirection())\n",
    "    Transform.SetTranslation(np.array(Image.GetOrigin()) - Reference_Origin)\n",
    "\n",
    "    Centering_Transform = sitk.TranslationTransform(Dimension)\n",
    "    Image_Center = np.array(Image.TransformContinuousIndexToPhysicalPoint(np.array(Image.GetSize()) / 2.0))\n",
    "    Centering_Transform.SetOffset(np.array(Transform.GetInverse().TransformPoint(Image_Center) - NewSize_Center))\n",
    "    Centered_Transform = sitk.Transform(Transform)\n",
    "    Centered_Transform.AddTransform(Centering_Transform)\n",
    "    \n",
    "    Resample = sitk.ResampleImageFilter()\n",
    "    if isLabel:\n",
    "        Resample.SetInterpolator = sitk.sitkNearestNeighbor\n",
    "    else:\n",
    "        Resample.SetInterpolator = sitk.sitkBSpline\n",
    "    Resample.SetTransform(Centered_Transform)\n",
    "    Resample.SetOutputDirection = Image.GetDirection()\n",
    "    Resample.SetOutputOrigin = Image.GetOrigin()\n",
    "    Resample.SetOutputSpacing(NewSpacing)\n",
    "    Resample.SetSize(NewSize)\n",
    "    ResampleImage = Resample.Execute(Image)\n",
    "\n",
    "    return ResampleImage"
   ]
  },
  {
   "cell_type": "markdown",
   "metadata": {
    "slideshow": {
     "slide_type": "slide"
    }
   },
   "source": [
    "### How to use?"
   ]
  },
  {
   "cell_type": "code",
   "execution_count": null,
   "metadata": {
    "slideshow": {
     "slide_type": "fragment"
    }
   },
   "outputs": [],
   "source": [
    "print('The spacing of N4ITK_image:', N4ITK_image.GetSpacing())\n",
    "print('The spacing of label:', label.GetSpacing())\n",
    "\n",
    "orig_image_spacing = N4ITK_image.GetSpacing()\n",
    "orig_label_spacing = label.GetSpacing()\n",
    "NewSpacing = ((1., 1., 5.))\n",
    "\n",
    "Res_image = SITKResampleImage(image, orig_image_spacing, NewSpacing, isLabel=False)\n",
    "Res_label = SITKResampleImage(label, orig_label_spacing, NewSpacing, isLabel=True)\n",
    "\n",
    "print('The spacing of Res_image:', Res_image.GetSpacing())\n",
    "print('The spacing of Res_label:', Res_label.GetSpacing())"
   ]
  },
  {
   "cell_type": "markdown",
   "metadata": {
    "slideshow": {
     "slide_type": "slide"
    }
   },
   "source": [
    "## 3. Simple ITK normalize"
   ]
  },
  {
   "cell_type": "code",
   "execution_count": null,
   "metadata": {
    "slideshow": {
     "slide_type": "slide"
    }
   },
   "outputs": [],
   "source": [
    "def NormalizeBasedOnLabel(Image,Label,MappingMax,MappingMin):\n",
    "\n",
    "    RadiomicsFeatures=extractor.execute(Image,Label)\n",
    "\n",
    "    resample_max = RadiomicsFeatures['original_firstorder_Maximum']\n",
    "    resample_min = RadiomicsFeatures['original_firstorder_Minimum']\n",
    "\n",
    "    Maxminfilter = sitk.MinimumMaximumImageFilter()\n",
    "    Maxminfilter.Execute(Image)\n",
    "    origin_max = Maxminfilter.GetMaximum()\n",
    "    origin_min = Maxminfilter.GetMinimum()\n",
    "\n",
    "    Scale = (MappingMax-MappingMin)/(resample_max-resample_min)\n",
    "    outputMaximum = MappingMax+(origin_max-resample_max)*Scale\n",
    "    outputMinimum = MappingMin+(origin_min-resample_min)*Scale\n",
    "\n",
    "    if outputMinimum < 0:\n",
    "        outputMaximum = outputMaximum - outputMinimum\n",
    "        outputMinimum = 0\n",
    "\n",
    "    NormalizedImage = sitk.RescaleIntensity(image1=Image,outputMinimum=outputMinimum,outputMaximum=outputMaximum)\n",
    "\n",
    "    return NormalizedImage"
   ]
  },
  {
   "cell_type": "markdown",
   "metadata": {
    "slideshow": {
     "slide_type": "slide"
    }
   },
   "source": [
    "### How to use?"
   ]
  },
  {
   "cell_type": "code",
   "execution_count": null,
   "metadata": {
    "slideshow": {
     "slide_type": "fragment"
    }
   },
   "outputs": [],
   "source": [
    "Maxminfilter = sitk.MinimumMaximumImageFilter()\n",
    "Maxminfilter.Execute(Res_image)\n",
    "origin_max = Maxminfilter.GetMaximum()\n",
    "origin_min = Maxminfilter.GetMinimum()\n",
    "\n",
    "print('Maximum of Res_image:', origin_max)\n",
    "print('Minimum of Res_image:', origin_min)\n",
    "\n",
    "MappingMax = 1024\n",
    "MappingMin = 0\n",
    "Norm_image = NormalizeBasedOnLabel( Res_image, Res_label, MappingMax, MappingMin)\n",
    "\n",
    "Maxminfilter.Execute(Norm_image)\n",
    "new_max = Maxminfilter.GetMaximum()\n",
    "new_min = Maxminfilter.GetMinimum()\n",
    "\n",
    "print('Maximum of Res_image:', new_max)\n",
    "print('Minimum of Res_image:', new_min)"
   ]
  },
  {
   "cell_type": "markdown",
   "metadata": {
    "slideshow": {
     "slide_type": "slide"
    }
   },
   "source": [
    "---\n",
    "# Part 3. Radiomics"
   ]
  },
  {
   "cell_type": "markdown",
   "metadata": {
    "slideshow": {
     "slide_type": "slide"
    }
   },
   "source": [
    "## 1. You can change the setting in yaml file  \" _radiomics_setting.yaml_ \".\n",
    "\n",
    "## Let's check the things in this file!"
   ]
  },
  {
   "cell_type": "code",
   "execution_count": null,
   "metadata": {
    "scrolled": true,
    "slideshow": {
     "slide_type": "slide"
    }
   },
   "outputs": [],
   "source": [
    "!cat ./../include/radiomics_setting.yaml"
   ]
  },
  {
   "cell_type": "markdown",
   "metadata": {
    "slideshow": {
     "slide_type": "slide"
    }
   },
   "source": [
    "## Extracting Radiomics features is time-wasted!\n",
    "\n",
    "## So there will only show that how to extract feature for one case"
   ]
  },
  {
   "cell_type": "markdown",
   "metadata": {
    "slideshow": {
     "slide_type": "slide"
    }
   },
   "source": [
    "## 2. Start extracting Radiomics features"
   ]
  },
  {
   "cell_type": "code",
   "execution_count": null,
   "metadata": {
    "scrolled": true,
    "slideshow": {
     "slide_type": "fragment"
    }
   },
   "outputs": [],
   "source": [
    "Result = extractor.execute(image, label)"
   ]
  },
  {
   "cell_type": "markdown",
   "metadata": {
    "slideshow": {
     "slide_type": "slide"
    }
   },
   "source": [
    "### What's the results?"
   ]
  },
  {
   "cell_type": "code",
   "execution_count": null,
   "metadata": {
    "slideshow": {
     "slide_type": "slide"
    }
   },
   "outputs": [],
   "source": [
    "for Key, Value in Result.items():\n",
    "    print(Key, ':', Value)"
   ]
  },
  {
   "cell_type": "markdown",
   "metadata": {
    "slideshow": {
     "slide_type": "slide"
    }
   },
   "source": [
    "## 3. How to save features?"
   ]
  },
  {
   "cell_type": "markdown",
   "metadata": {
    "slideshow": {
     "slide_type": "fragment"
    }
   },
   "source": [
    "### Use pandas to save these results, you can refer the code in the python file \" _src/ICC.py_ \"."
   ]
  },
  {
   "cell_type": "markdown",
   "metadata": {
    "slideshow": {
     "slide_type": "slide"
    }
   },
   "source": [
    "---\n",
    "# Part 4. ICC"
   ]
  },
  {
   "cell_type": "markdown",
   "metadata": {
    "slideshow": {
     "slide_type": "slide"
    }
   },
   "source": [
    "## 1. What's ICC?"
   ]
  },
  {
   "cell_type": "markdown",
   "metadata": {
    "slideshow": {
     "slide_type": "fragment"
    }
   },
   "source": [
    "### In statistics, the intraclass correlation, or the intraclass correlation coefficient (ICC), is a descriptive statistic that can be used when quantitative measurements are made on units that are organized into groups. \n",
    "\n",
    "### If ICC value is &nbsp;  (1) Below 0.50: poor &nbsp; (2) Between 0.50 and 0.75: moderate &nbsp; (3) Between 0.75 and 0.90: good &nbsp; (4) Above 0.90: excellent"
   ]
  },
  {
   "cell_type": "markdown",
   "metadata": {
    "slideshow": {
     "slide_type": "fragment"
    }
   },
   "source": [
    "### More information and formula: [Link](https://en.wikipedia.org/wiki/Intraclass_correlation)"
   ]
  },
  {
   "cell_type": "markdown",
   "metadata": {
    "slideshow": {
     "slide_type": "slide"
    }
   },
   "source": [
    "## 2. Start to compute ICC"
   ]
  },
  {
   "cell_type": "code",
   "execution_count": null,
   "metadata": {
    "slideshow": {
     "slide_type": "fragment"
    }
   },
   "outputs": [],
   "source": [
    "!python ./../src/ICC.py ./../result/ICC/ICC.xlsx ./../result/features/features_file1.xlsx ./../result/features/features_file2.xlsx"
   ]
  },
  {
   "cell_type": "markdown",
   "metadata": {
    "slideshow": {
     "slide_type": "slide"
    }
   },
   "source": [
    "---\n",
    "# Part 5. Classification"
   ]
  },
  {
   "cell_type": "markdown",
   "metadata": {
    "slideshow": {
     "slide_type": "fragment"
    }
   },
   "source": [
    "## Due to the limiltation of time, we will skip to do this part!"
   ]
  },
  {
   "cell_type": "markdown",
   "metadata": {
    "slideshow": {
     "slide_type": "slide"
    }
   },
   "source": [
    "# Part 6. Connect all above parts?"
   ]
  },
  {
   "cell_type": "markdown",
   "metadata": {
    "slideshow": {
     "slide_type": "fragment"
    }
   },
   "source": [
    "## You can try to complete this part!"
   ]
  },
  {
   "cell_type": "code",
   "execution_count": null,
   "metadata": {
    "slideshow": {
     "slide_type": "fragment"
    }
   },
   "outputs": [],
   "source": [
    "# ===== START ANSWER HERE =====\n",
    "\n",
    "\n",
    "# ===== END ANSWER ====="
   ]
  },
  {
   "cell_type": "markdown",
   "metadata": {
    "slideshow": {
     "slide_type": "slide"
    }
   },
   "source": [
    "# End"
   ]
  }
 ],
 "metadata": {
  "kernelspec": {
   "display_name": "Python 3",
   "language": "python",
   "name": "python3"
  },
  "language_info": {
   "codemirror_mode": {
    "name": "ipython",
    "version": 3
   },
   "file_extension": ".py",
   "mimetype": "text/x-python",
   "name": "python",
   "nbconvert_exporter": "python",
   "pygments_lexer": "ipython3",
   "version": "3.7.3"
  },
  "rise": {
   "autolaunch": false,
   "enable_chalkboard": true
  }
 },
 "nbformat": 4,
 "nbformat_minor": 2
}
